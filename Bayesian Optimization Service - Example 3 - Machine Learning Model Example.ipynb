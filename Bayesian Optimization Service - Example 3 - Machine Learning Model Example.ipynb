{
 "cells": [
  {
   "cell_type": "markdown",
   "metadata": {},
   "source": [
    "<b><h1>IoTwins.bayesian_optimization service</h1></b>\n",
    "The bayesian_optimization service developed in IoTwins is meant to support and allow clients to make hyperparameter fine-tuning.<br>This service can be used to automatically improve the performances of the already existing services as well as future services that will be developed and added in the IoTwins context. <br>\n",
    "Why was this service developed? The IoTwins services are applicable in across a wide range of contexts and specifically in the area of anomaly detection.<br>\n",
    "To work best, these services need specific and not always easy to find configurations that usually involve experts' work. The bayesian_optimization aims to remove this gap and allow any clients to automatically individuate the best hyperparameters configuration in an acceptable time.\n",
    "\n",
    "\n",
    "The bayesian_optimization service is a wrapper of the <a href=\"https://github.com/hyperopt/hyperopt\">Hyperopt</a> python library for serial and parallel optimization over awkward search spaces, which may include real-valued, discrete, and confitional dimensions.<br>\n",
    "To conclude, the purpose of the service is to facilitate the use of the IoTwins services and make hyperparameter fine-tuning in the context of the client in the easiest and fastest manner. "
   ]
  },
  {
   "cell_type": "markdown",
   "metadata": {},
   "source": [
    "<b><h2><a href=\"https://archive.ics.uci.edu/ml/datasets/iris\">Iris</a> Classifier optimization Example in IoTwins[bayesian_optimization service]</h2></b>\n",
    "<br>\n",
    "In this example, we will optimize the standard machine learning problem called the iris flowers dataset.<br>\n",
    "This dataset is well studied and is a good problem for practicing on neural networks.<br>\n",
    "Each instance describes the properties of an observed flower measurements and the output variable is specific iris species.<br>\n",
    "Since there are more than two classes to be predicted, this is a multi-class classification problem."
   ]
  },
  {
   "cell_type": "markdown",
   "metadata": {},
   "source": [
    "Formulating an optimization problem requires four main parts, two of which completly managed from the service:<br>\n",
    "    - <b>Objective Function</b>[mandatory]: takes in an input and returns a loss to minimize, so it can be a generic ML Classifier.<br>\n",
    "    - <b>Domain space</b>[mandatory]: the range of input values to evaluate.<br>\n",
    "    - <b>Optimization Algorithm</b>[default <a href=\"https://papers.nips.cc/paper/4443-algorithms-for-hyper-parameter-optimization.pdf\">tpe</a>]: the method used to construct the surrogate function and choose the next values to evaluate. <b>use the default value!</b><br>\n",
    "    - <b>Results</b>[not mandatory]: score, value pairs that the algorithm uses to build the model. <b>Managed by the service</b>.<br>"
   ]
  },
  {
   "cell_type": "code",
   "execution_count": 66,
   "metadata": {},
   "outputs": [],
   "source": [
    "# pandas and numpy\n",
    "import pandas as pd\n",
    "import numpy as np\n",
    "import os, sys\n",
    "os.environ[\"CUDA_VISIBLE_DEVICES\"] = \"-1\"\n",
    "# matplotlib for graphs\n",
    "import matplotlib.pyplot as plt"
   ]
  },
  {
   "cell_type": "markdown",
   "metadata": {},
   "source": [
    "<h5><b>Data Preperation</b></h5><br>"
   ]
  },
  {
   "cell_type": "markdown",
   "metadata": {},
   "source": [
    "To prepare the data, we will simply use the <a href=\"https://scikit-learn.org/stable/modules/generated/sklearn.preprocessing.OneHotEncoder.html\">OneHotEncoder</a> to encode the integer features into a <a href=\"https://en.wikipedia.org/wiki/One-hot\">One-hot</a> vector and we will use<br> a <a href=\"https://scikit-learn.org/stable/modules/generated/sklearn.preprocessing.StandardScaler.html\">StandardScaler</a> to remove the mean and scale the features to unit variance.<br>\n",
    "Finally we want to perform a train test split to compare our results later on."
   ]
  },
  {
   "cell_type": "code",
   "execution_count": 2,
   "metadata": {},
   "outputs": [],
   "source": [
    "from sklearn.datasets import load_iris\n",
    "from sklearn.model_selection import train_test_split\n",
    "from sklearn.preprocessing import OneHotEncoder, StandardScaler\n",
    "\n",
    "iris = load_iris()\n",
    "X = iris['data']\n",
    "y = iris['target']\n",
    "names = iris['target_names']\n",
    "feature_names = iris['feature_names']\n",
    "\n",
    "# One hot encoding\n",
    "enc = OneHotEncoder()\n",
    "Y = enc.fit_transform(y[:, np.newaxis]).toarray()\n",
    "\n",
    "# Scale data to have mean 0 and variance 1 \n",
    "# which is importance for convergence of the neural network\n",
    "scaler = StandardScaler()\n",
    "X_scaled = scaler.fit_transform(X)\n",
    "\n",
    "# Split the data set into training and testing\n",
    "X_train, X_test, Y_train, Y_test = train_test_split(X_scaled, Y, test_size=0.3, random_state=41)\n",
    "\n",
    "n_features = X.shape[1]\n",
    "n_classes = Y.shape[1]"
   ]
  },
  {
   "cell_type": "markdown",
   "metadata": {},
   "source": [
    "<h5><b>Neural Network Model</b></h5><br>"
   ]
  },
  {
   "cell_type": "markdown",
   "metadata": {},
   "source": [
    "The Model we want to fine-tuning is really simple, it requires the following parameters(as usual for every machine learning models):<br>\n",
    "    - input_dim: <u>fixed</u> value to 4, the input dimensions od each sample.<br>\n",
    "    - output_dim: <u>fixed</u> value to 3, the 3 different classes in out Dataset(<a href=\"https://en.wikipedia.org/wiki/Iris_flower_data_set\">Iris</a>)<br>\n",
    "    - epochs: <u>fixed</u> value to 200, as we will use the <a href=\"https://www.tensorflow.org/api_docs/python/tf/keras/callbacks/EarlyStopping\"> EarlyStopping</a> Keras callback.<br>\n",
    "    - verbose: <u>fixed</u> value to 0.<br>\n",
    "    - validation_split: <u>fixed</u> value between 0 and 1. Fraction of the training data to be used as validation data.<br>\n",
    "    <br>\n",
    "    -model_params: a Python dictionary containing the information to create the model<br>\n",
    "    &emsp;&emsp;&emsp; - 'n': number of hidden layers<br>\n",
    "    &emsp;&emsp;&emsp; - 'nodes': number of nodes in each hidden layer<br>\n",
    "    &emsp;&emsp;&emsp; - 'actv': the activation function to use in each hidden layer(<u>fixed</u> to 'relu')<br>\n",
    "    &emsp;&emsp;&emsp; - 'drop_enabled': add or not a <a href=\"https://keras.io/api/layers/regularization_layers/dropout/\">Dropout</a> layer after each hidden layer?<br>\n",
    "    &emsp;&emsp;&emsp;&emsp;&emsp;&emsp; - 'drop_factor': Float between 0 and 1. Fraction of the input units to drop if 'drop_enabled' is <i>True</i><br>\n",
    "    &emsp;&emsp;&emsp; - 'loss': objective function(the name of the objective function) or keras.losses.Loss instance(the 'categorical_crossentropy' wil be used in this example)<br>\n",
    "    &emsp;&emsp;&emsp; - 'optimizer': name of optimizer or optimizer instance(the 'adam' optimizer will be used in this example)<br>\n",
    "    -batch_size: number of samples per gradient update<br>\n",
    "    -shuffle: whether to shuffle the training data before each epoch<br>"
   ]
  },
  {
   "cell_type": "code",
   "execution_count": 3,
   "metadata": {},
   "outputs": [
    {
     "name": "stderr",
     "output_type": "stream",
     "text": [
      "Using TensorFlow backend.\n"
     ]
    }
   ],
   "source": [
    "from keras.models import Sequential\n",
    "from keras.layers import Dense, Dropout\n",
    "from keras.callbacks import TensorBoard, EarlyStopping\n",
    "from sklearn.metrics import precision_recall_fscore_support\n",
    "\n",
    "def create_custom_model(input_dim, output_dim, _hparams, name='model'):\n",
    "    # Create model function\n",
    "    model = Sequential(name=name)\n",
    "    for i in range(_hparams['n']):\n",
    "        model.add(Dense(_hparams['nodes'], input_dim=input_dim, activation=_hparams['actv']))\n",
    "        if _hparams['drop_enabled']:\n",
    "            model.add(Dropout(rate=_hparams['drop_factor']))\n",
    "            \n",
    "    model.add(Dense(output_dim, activation='softmax'))\n",
    "    \n",
    "    # Compile model\n",
    "    model.compile(loss=_hparams['loss'],  # fixed ->'categorical_crossentropy', \n",
    "                  optimizer=_hparams['optimizer'],  # fixed -> 'adam', \n",
    "                  metrics=['accuracy'])\n",
    "    return model\n",
    "\n",
    "\n",
    "def objective_function(model_params, batch_size, shuffle, epochs, verbose, validation_split, input_dim, output_dim):\n",
    "    \"\"\"Objective function for the Iris Classifier\"\"\"\n",
    "    stats = {}\n",
    "\n",
    "    # TensorBoard Callback\n",
    "    cb = TensorBoard()\n",
    "    early_stopping = EarlyStopping(monitor='val_loss', patience=10, min_delta=1e-5)\n",
    "\n",
    "    model = create_custom_model(input_dim, output_dim, model_params)\n",
    "    \n",
    "    history_callback = model.fit(X_train, Y_train,\n",
    "                                batch_size=batch_size,\n",
    "                                shuffle=True,\n",
    "                                epochs=epochs,\n",
    "                                verbose=verbose,\n",
    "                                validation_split=validation_split,\n",
    "                                callbacks=[cb, early_stopping])\n",
    "    score = model.evaluate(X_test, Y_test, verbose=0)\n",
    "    \n",
    "    stats['test_loss'] = score[0]\n",
    "    stats['test_accuracy'] = score[1]\n",
    "    \n",
    "    Y_pred = model.predict(X_test)\n",
    "    # from array of probabilities to array of 0-1\n",
    "    # [0.872312,0.114322,0,013366] --> [1,0,0]\n",
    "    for i,el in enumerate(Y_pred):\n",
    "        i_max = int(np.argmax(Y_pred[i]))\n",
    "        Y_pred[i].fill(0)\n",
    "        Y_pred[i][i_max] = 1\n",
    "    precision_W, recall_W, fscore_W, xyz = precision_recall_fscore_support(Y_test, Y_pred, average='weighted')\n",
    "    stats['precision_W'] = precision_W\n",
    "    stats['recall_W'] = recall_W\n",
    "    stats['fscore_W'] = fscore_W\n",
    "    \n",
    "    score = score[0]  # we wnto to minimize the test loss\n",
    "    return score, stats, {'model': model, 'history': history_callback}  # mandatory return format"
   ]
  },
  {
   "cell_type": "markdown",
   "metadata": {},
   "source": [
    "<b>Domain Space</b><br>\n",
    "The domain space is the input values over which we want to search.<br>\n",
    "This part may be the most difficult part to handle, however the bayesian_optimization service<br>\n",
    "require the same space domain format as for the Hyperopt(<a href=\"http://hyperopt.github.io/hyperopt/getting-started/search_spaces/\">How to define a Search Space</a>).<br>\n",
    "<br>\n",
    "Sometimes may be needed to pass fixed paramters to the objective function, parameters which are not part of the search space.<br>\n",
    "This can be done passing a dict to the <i>\"others_params\"</i> bayesian_optimiztion's parameter.<br>\n",
    "<br>\n",
    "In our example we have 9 parameters in which 6 to be fine-tuned(see the <i>s</i> dictionary) and 5 fixed parameters(see the <i>o_p</i> dictionary).<br>\n",
    "Within the domain space we also have 3 fixed parameters(<i>'actv'</i>, <i>'loss'</i> and <i>'optimizer'</i>) because at each evaluation/iteration the space instance will always be stored in the csv file and we want to keep track of it.<br>\n",
    "<br>\n",
    "The domain instance will be passed to the <i>space_func_process</i> function if specified otherwise it will directly passed to the objective function. In the case the <i>space_func_process</i> is specified, its output will be passed.<br>\n",
    "Instead, the fixed parameters instance is always directly passed to the objective function(<i>epochs</i>, <i>validation_split</i>, <i>verbose</i>, <i>input_dim</i>, <i>output_dim</i>).\n"
   ]
  },
  {
   "cell_type": "code",
   "execution_count": 4,
   "metadata": {},
   "outputs": [],
   "source": [
    "from hyperopt import hp\n",
    "# Domain Space\n",
    "s = {\n",
    "    'batch_size': hp.quniform('batch_size', 1, 16, 1),\n",
    "    'shuffle': hp.choice('shuffle', [True, False]),\n",
    "    'drop_enabled': hp.choice('drop_enabled',\n",
    "                            [{'drop_enabled': True, 'drop_factor': hp.quniform('drop_factor', 0.1, 0.9, 0.1)},\n",
    "                             {'drop_enabled': False, 'drop_factor': 0.1}]),\n",
    "    'n': hp.quniform('n', 1, 12, 1),\n",
    "    'nodes': hp.quniform('nodes', 1, 24, 2),\n",
    "    'actv': 'relu',\n",
    "    'loss': 'categorical_crossentropy',\n",
    "    'optimizer': 'adam'\n",
    "    }\n",
    "\n",
    "# Fixed Parameters\n",
    "o_p = {'epochs': 200, 'validation_split': 0.15, 'verbose': 0, 'input_dim': 4, 'output_dim': 3} "
   ]
  },
  {
   "cell_type": "markdown",
   "metadata": {},
   "source": [
    "Since the output of the 'space_func_process' function is passed to the objective function, we will use the <i>'s_f_p'</i> function to adjust/modify each given space instance. So with this function we can round or cast values, we can also format the dictionary as the objective function expect it(no second level dictionary - just one level!, parameters assigned to the <i>'model_params'</i> key, etc...)."
   ]
  },
  {
   "cell_type": "code",
   "execution_count": 5,
   "metadata": {},
   "outputs": [],
   "source": [
    "\"\"\"\n",
    "Every iteration the bayesian_optimization service chooses the new hyperparameters for their evaluation accordingly \n",
    "to the distributions specified in s. If a 'space_func_process' function is specified, the service passes those \n",
    "hyperparameters to it and its output will be passed to the objective function(the classifier in this case).\n",
    "\n",
    "So with this function we can round, cast values or format the dictionary as the objective function expect it.\n",
    "\"\"\"\n",
    "def s_f_p(params):\n",
    "    drop_factor = params['drop_enabled'].get('drop_factor', 0.1)\n",
    "    \n",
    "    params['n'] = int(params['n'])\n",
    "    params['nodes'] = int(params['nodes'])\n",
    "    # Extract the drop_enabled\n",
    "    params['drop_enabled'] = params['drop_enabled']['drop_enabled']  # no second level dictionary, 'drop_factor' moved to the first level toghether with 'drop_enabled'\n",
    "    params['drop_factor'] = round(drop_factor,2)\n",
    "    \n",
    "    batch_size = int(params['batch_size'])  # int(params.pop('batch_size'))\n",
    "    shuffle = params['shuffle']  # params.pop('shuffle')\n",
    "    \n",
    "    # the returned dictionary partially corresponds to the input of the objective function\n",
    "    # what is missing is present in the dictionary of fixed parameters(o_p: epochs, verbose, validation_split, input_dim, output_dim)\n",
    "    return {'model_params': params, 'batch_size':batch_size, 'shuffle':shuffle}  # this output will be passed to the objective function"
   ]
  },
  {
   "cell_type": "markdown",
   "metadata": {},
   "source": [
    "<b><h3>Optimization</h3></b><br>\n",
    "Now that the problem is defined, we can minimize our objective function!<br>\n",
    "To do so, we use the <i>bayesian_optimization</i> service that takes the four parts above, as well as a maximum number of evaluations:"
   ]
  },
  {
   "cell_type": "code",
   "execution_count": 6,
   "metadata": {},
   "outputs": [
    {
     "name": "stdout",
     "output_type": "stream",
     "text": [
      " 20%|██        | 2/10 [00:13<01:01,  7.66s/trial, best loss: 0.3788201914893256]"
     ]
    },
    {
     "name": "stderr",
     "output_type": "stream",
     "text": [
      "C:\\Users\\Filippo\\Anaconda3\\envs\\IoTwins\\lib\\site-packages\\sklearn\\metrics\\_classification.py:1221: UndefinedMetricWarning: Precision and F-score are ill-defined and being set to 0.0 in labels with no predicted samples. Use `zero_division` parameter to control this behavior.\n",
      "  _warn_prf(average, modifier, msg_start, len(result))\n",
      "\n"
     ]
    },
    {
     "name": "stdout",
     "output_type": "stream",
     "text": [
      "100%|██████████| 10/10 [02:06<00:00, 12.63s/trial, best loss: 0.2113479925526513]\n",
      "[BO] trial saved\n",
      "\n",
      "\n",
      "trial_fname: servises/bayesian_optimization/out/trials_10_default_0.0.p\n",
      "BEST parameter/s:\n",
      "{'batch_size': 4.0, 'drop_enabled': 1, 'n': 2.0, 'nodes': 6.0, 'shuffle': 1}\n"
     ]
    }
   ],
   "source": [
    "from servises.bayesian_optimization.src.bayesianOptimization import bayesian_optimization  # import the service\n",
    "\n",
    "out_file = \"iris_classifier_trials.csv\"  # output file name of the csv file in which will be stored the <score, parameters, stats, iteration>\n",
    "t_e = 10  # total_evals\n",
    "best, trial_fname = bayesian_optimization(function_to_optimize=objective_function, space_func_process=s_f_p, \n",
    "                                          trial_fname=out_file, space=s, total_evals=t_e, save_model_func=None,\n",
    "                                          others_params=o_p)\n",
    "\n",
    "print(\"\\n\\ntrial_fname: {}\".format(trial_fname))\n",
    "print(\"BEST parameter/s:\")\n",
    "print(best)"
   ]
  },
  {
   "cell_type": "code",
   "execution_count": 7,
   "metadata": {},
   "outputs": [
    {
     "name": "stdout",
     "output_type": "stream",
     "text": [
      "[BO] trial loaded\n",
      "||--- 1# ---||\n",
      "loss -> 0.2113479925526513\n",
      "params -> {'model_params': {'actv': 'relu', 'batch_size': 4.0, 'drop_enabled': False, 'loss': 'categorical_crossentropy', 'n': 2, 'nodes': 6, 'optimizer': 'adam', 'shuffle': False, 'drop_factor': 0.1}, 'batch_size': 4, 'shuffle': False}\n",
      "stats -> {'test_loss': 0.2113479925526513, 'test_accuracy': 0.9111111137602065, 'precision_W': 0.9111111111111111, 'recall_W': 0.9111111111111111, 'fscore_W': 0.9111111111111111}\n",
      "iteration -> 9\n",
      "train_time -> 21.75155190000001\n",
      "status -> ok\n",
      "\n",
      "\n",
      "||--- 2# ---||\n",
      "loss -> 0.3788201914893256\n",
      "params -> {'model_params': {'actv': 'relu', 'batch_size': 14.0, 'drop_enabled': False, 'loss': 'categorical_crossentropy', 'n': 4, 'nodes': 10, 'optimizer': 'adam', 'shuffle': False, 'drop_factor': 0.1}, 'batch_size': 14, 'shuffle': False}\n",
      "stats -> {'test_loss': 0.3788201914893256, 'test_accuracy': 0.9111111137602065, 'precision_W': 0.9111111111111111, 'recall_W': 0.9111111111111111, 'fscore_W': 0.9111111111111111}\n",
      "iteration -> 0\n",
      "train_time -> 9.0448527\n",
      "status -> ok\n",
      "\n",
      "\n",
      "||--- 3# ---||\n",
      "loss -> 0.4562945034768846\n",
      "params -> {'model_params': {'actv': 'relu', 'batch_size': 8.0, 'drop_enabled': False, 'loss': 'categorical_crossentropy', 'n': 3, 'nodes': 14, 'optimizer': 'adam', 'shuffle': False, 'drop_factor': 0.1}, 'batch_size': 8, 'shuffle': False}\n",
      "stats -> {'test_loss': 0.4562945034768846, 'test_accuracy': 0.8888888915379842, 'precision_W': 0.8923976608187134, 'recall_W': 0.8888888888888888, 'fscore_W': 0.8898612898612899}\n",
      "iteration -> 7\n",
      "train_time -> 17.822175200000004\n",
      "status -> ok\n",
      "\n",
      "\n"
     ]
    }
   ],
   "source": [
    "from servises.bayesian_optimization.src.bayesianOptimization import _load_trials\n",
    "def print_best_trials_results(t_fname, best_numb=3):\n",
    "    # Sort the trials with lowest loss first and print the best 3 ones\n",
    "    best_numb = 3\n",
    "    trial_filename, _ = os.path.splitext(t_fname)\n",
    "    tpe_trials = _load_trials(trial_filename)\n",
    "    bayes_trials_results = sorted(tpe_trials.results, key=lambda x: x['loss'])\n",
    "\n",
    "    for i,record in enumerate(bayes_trials_results[:best_numb]):\n",
    "        print(\"||--- {}# ---||\".format(i+1))\n",
    "        for e in record:\n",
    "            print(\"{} -> {}\".format(e, record[e]))\n",
    "        print(\"\\n\")\n",
    "\n",
    "print_best_trials_results(trial_fname)"
   ]
  },
  {
   "cell_type": "markdown",
   "metadata": {},
   "source": [
    "At the end of the service's execution we'll have the <i>iris_classifier_trials.csv</i> and the Trials file <i>trials_10_default_0.0.p</i> in the <i>/out</i> folder.<br>\n",
    "As seen in the first example, we can use the Trials file to \"continue\" the bayesian optimization starting from the 50th evaluation and not again from the beginning."
   ]
  },
  {
   "cell_type": "markdown",
   "metadata": {},
   "source": [
    "Once the run of evaluations is completed if we would like to use that model for others purposes we need to train again a model because we never didn't save anything during the optimization process.<br>\n",
    "<br>\n",
    "This is not so smart and a waste of time, so let's implement a function for saving our model during the optimization process."
   ]
  },
  {
   "cell_type": "code",
   "execution_count": 8,
   "metadata": {},
   "outputs": [],
   "source": [
    "# this function takes in, as input, the output of the objective function so:\n",
    "# model_name, best_score, stats and the third \"custom\" python dictionary(in our case the keras model and the history callback)\n",
    "from servises.bayesian_optimization.src.bayesianOptimization import trained_models_dir\n",
    "def save_model_function(model_name, best_score, stats, model, history):\n",
    "    model_name_ext = '{}/{}.h5'.format(trained_models_dir, model_name)\n",
    "    model.save(model_name_ext)   # I want to save just the model(.h5 format) inside the 'trained_models' folder without take into consideration the history object\n",
    "    return True  # it can return whatever we want"
   ]
  },
  {
   "cell_type": "code",
   "execution_count": 9,
   "metadata": {},
   "outputs": [
    {
     "name": "stdout",
     "output_type": "stream",
     "text": [
      "[BO] trial loaded\n",
      "new best loss score(0.19505), saving model...          \n",
      "bayesian_opt_modelscore_019505                         \n",
      "100%|██████████| 22/22 [05:42<00:00, 28.54s/trial, best loss: 0.19505083428488837]\n",
      "[BO] trial saved\n",
      "\n",
      "\n",
      "trial_fname: servises/bayesian_optimization/out/trials_22_default_0.0.p\n",
      "BEST parameter/s:\n",
      "servises/bayesian_optimization/out/trials_22_default_0.0.p\n",
      "[BO] trial loaded\n",
      "||--- 1# ---||\n",
      "loss -> 0.19505083428488837\n",
      "params -> {'model_params': {'actv': 'relu', 'batch_size': 14.0, 'drop_enabled': False, 'loss': 'categorical_crossentropy', 'n': 4, 'nodes': 10, 'optimizer': 'adam', 'shuffle': False, 'drop_factor': 0.1}, 'batch_size': 14, 'shuffle': False}\n",
      "stats -> {'test_loss': 0.19505083428488837, 'test_accuracy': 0.8888888915379842, 'precision_W': 0.8894346978557505, 'recall_W': 0.8888888888888888, 'fscore_W': 0.8885982756950499}\n",
      "iteration -> 10\n",
      "train_time -> 14.374516099999994\n",
      "status -> ok\n",
      "\n",
      "\n",
      "||--- 2# ---||\n",
      "loss -> 0.2113479925526513\n",
      "params -> {'model_params': {'actv': 'relu', 'batch_size': 4.0, 'drop_enabled': False, 'loss': 'categorical_crossentropy', 'n': 2, 'nodes': 6, 'optimizer': 'adam', 'shuffle': False, 'drop_factor': 0.1}, 'batch_size': 4, 'shuffle': False}\n",
      "stats -> {'test_loss': 0.2113479925526513, 'test_accuracy': 0.9111111137602065, 'precision_W': 0.9111111111111111, 'recall_W': 0.9111111111111111, 'fscore_W': 0.9111111111111111}\n",
      "iteration -> 9\n",
      "train_time -> 21.75155190000001\n",
      "status -> ok\n",
      "\n",
      "\n",
      "||--- 3# ---||\n",
      "loss -> 0.3083225813176897\n",
      "params -> {'model_params': {'actv': 'relu', 'batch_size': 4.0, 'drop_enabled': False, 'loss': 'categorical_crossentropy', 'n': 2, 'nodes': 6, 'optimizer': 'adam', 'shuffle': False, 'drop_factor': 0.1}, 'batch_size': 4, 'shuffle': False}\n",
      "stats -> {'test_loss': 0.3083225813176897, 'test_accuracy': 0.866666669315762, 'precision_W': 0.8725925925925926, 'recall_W': 0.8666666666666667, 'fscore_W': 0.8678542233720503}\n",
      "iteration -> 19\n",
      "train_time -> 37.36417700000004\n",
      "status -> ok\n",
      "\n",
      "\n"
     ]
    }
   ],
   "source": [
    "# remove the entrire path and the extion from to get the name of the stored Trials file\n",
    "trial_filename, _ = os.path.splitext(trial_fname)\n",
    "trial_filename = trial_filename.split('/')[-1]\n",
    "\n",
    "# we run 10 more evaluations/iterations\n",
    "new_best, new_trial_fname = bayesian_optimization(function_to_optimize=objective_function, space_func_process=s_f_p, \n",
    "                                                  trial_fname=out_file, space=s, total_evals=t_e+12,\n",
    "                                                  save_model_func=save_model_function, others_params=o_p, trials_name=trial_filename)\n",
    "\n",
    "print(\"\\n\\ntrial_fname: {}\".format(new_trial_fname))\n",
    "print(\"BEST parameter/s:\")\n",
    "print(new_trial_fname)\n",
    "print_best_trials_results(new_trial_fname)"
   ]
  },
  {
   "cell_type": "code",
   "execution_count": 36,
   "metadata": {},
   "outputs": [
    {
     "data": {
      "text/plain": [
       "'servises/bayesian_optimization/out/trials_22_default_0.0.p'"
      ]
     },
     "execution_count": 36,
     "metadata": {},
     "output_type": "execute_result"
    }
   ],
   "source": [
    "new_trial_fname"
   ]
  },
  {
   "cell_type": "markdown",
   "metadata": {},
   "source": [
    "Once the second run of evaluations is completed we got a better hyperparameters configuration and its correspondent model has been saved, so we can directly load it and use as we want."
   ]
  },
  {
   "cell_type": "markdown",
   "metadata": {},
   "source": [
    "<b><h3>Visualize the Results</h3></b><br>"
   ]
  },
  {
   "cell_type": "code",
   "execution_count": 67,
   "metadata": {},
   "outputs": [
    {
     "name": "stdout",
     "output_type": "stream",
     "text": [
      "servises/bayesian_optimization/out/trials_150_default_0.0\n",
      "[BO] trial loaded\n"
     ]
    },
    {
     "data": {
      "text/html": [
       "<div>\n",
       "<style scoped>\n",
       "    .dataframe tbody tr th:only-of-type {\n",
       "        vertical-align: middle;\n",
       "    }\n",
       "\n",
       "    .dataframe tbody tr th {\n",
       "        vertical-align: top;\n",
       "    }\n",
       "\n",
       "    .dataframe thead th {\n",
       "        text-align: right;\n",
       "    }\n",
       "</style>\n",
       "<table border=\"1\" class=\"dataframe\">\n",
       "  <thead>\n",
       "    <tr style=\"text-align: right;\">\n",
       "      <th></th>\n",
       "      <th>loss</th>\n",
       "      <th>iteration</th>\n",
       "      <th>n</th>\n",
       "      <th>nodes</th>\n",
       "      <th>batch_size</th>\n",
       "      <th>drop_enabled</th>\n",
       "      <th>drop_factor</th>\n",
       "      <th>shuffle</th>\n",
       "    </tr>\n",
       "  </thead>\n",
       "  <tbody>\n",
       "    <tr>\n",
       "      <th>0</th>\n",
       "      <td>0.609889</td>\n",
       "      <td>0</td>\n",
       "      <td>4</td>\n",
       "      <td>10</td>\n",
       "      <td>14.0</td>\n",
       "      <td>False</td>\n",
       "      <td>0.1</td>\n",
       "      <td>False</td>\n",
       "    </tr>\n",
       "    <tr>\n",
       "      <th>1</th>\n",
       "      <td>0.346362</td>\n",
       "      <td>1</td>\n",
       "      <td>3</td>\n",
       "      <td>4</td>\n",
       "      <td>15.0</td>\n",
       "      <td>False</td>\n",
       "      <td>0.1</td>\n",
       "      <td>False</td>\n",
       "    </tr>\n",
       "    <tr>\n",
       "      <th>2</th>\n",
       "      <td>1.111024</td>\n",
       "      <td>2</td>\n",
       "      <td>7</td>\n",
       "      <td>24</td>\n",
       "      <td>7.0</td>\n",
       "      <td>True</td>\n",
       "      <td>0.6</td>\n",
       "      <td>True</td>\n",
       "    </tr>\n",
       "    <tr>\n",
       "      <th>3</th>\n",
       "      <td>0.522767</td>\n",
       "      <td>3</td>\n",
       "      <td>2</td>\n",
       "      <td>18</td>\n",
       "      <td>14.0</td>\n",
       "      <td>True</td>\n",
       "      <td>0.7</td>\n",
       "      <td>True</td>\n",
       "    </tr>\n",
       "    <tr>\n",
       "      <th>4</th>\n",
       "      <td>0.587666</td>\n",
       "      <td>4</td>\n",
       "      <td>8</td>\n",
       "      <td>14</td>\n",
       "      <td>4.0</td>\n",
       "      <td>False</td>\n",
       "      <td>0.1</td>\n",
       "      <td>False</td>\n",
       "    </tr>\n",
       "    <tr>\n",
       "      <th>...</th>\n",
       "      <td>...</td>\n",
       "      <td>...</td>\n",
       "      <td>...</td>\n",
       "      <td>...</td>\n",
       "      <td>...</td>\n",
       "      <td>...</td>\n",
       "      <td>...</td>\n",
       "      <td>...</td>\n",
       "    </tr>\n",
       "    <tr>\n",
       "      <th>145</th>\n",
       "      <td>0.314072</td>\n",
       "      <td>145</td>\n",
       "      <td>5</td>\n",
       "      <td>8</td>\n",
       "      <td>12.0</td>\n",
       "      <td>False</td>\n",
       "      <td>0.1</td>\n",
       "      <td>False</td>\n",
       "    </tr>\n",
       "    <tr>\n",
       "      <th>146</th>\n",
       "      <td>0.369255</td>\n",
       "      <td>146</td>\n",
       "      <td>6</td>\n",
       "      <td>10</td>\n",
       "      <td>11.0</td>\n",
       "      <td>False</td>\n",
       "      <td>0.1</td>\n",
       "      <td>False</td>\n",
       "    </tr>\n",
       "    <tr>\n",
       "      <th>147</th>\n",
       "      <td>0.264443</td>\n",
       "      <td>147</td>\n",
       "      <td>3</td>\n",
       "      <td>12</td>\n",
       "      <td>12.0</td>\n",
       "      <td>False</td>\n",
       "      <td>0.1</td>\n",
       "      <td>False</td>\n",
       "    </tr>\n",
       "    <tr>\n",
       "      <th>148</th>\n",
       "      <td>0.296749</td>\n",
       "      <td>148</td>\n",
       "      <td>5</td>\n",
       "      <td>6</td>\n",
       "      <td>13.0</td>\n",
       "      <td>False</td>\n",
       "      <td>0.1</td>\n",
       "      <td>False</td>\n",
       "    </tr>\n",
       "    <tr>\n",
       "      <th>149</th>\n",
       "      <td>0.211057</td>\n",
       "      <td>149</td>\n",
       "      <td>6</td>\n",
       "      <td>8</td>\n",
       "      <td>10.0</td>\n",
       "      <td>False</td>\n",
       "      <td>0.1</td>\n",
       "      <td>False</td>\n",
       "    </tr>\n",
       "  </tbody>\n",
       "</table>\n",
       "<p>150 rows × 8 columns</p>\n",
       "</div>"
      ],
      "text/plain": [
       "         loss  iteration  n  nodes  batch_size  drop_enabled  drop_factor  \\\n",
       "0    0.609889          0  4     10        14.0         False          0.1   \n",
       "1    0.346362          1  3      4        15.0         False          0.1   \n",
       "2    1.111024          2  7     24         7.0          True          0.6   \n",
       "3    0.522767          3  2     18        14.0          True          0.7   \n",
       "4    0.587666          4  8     14         4.0         False          0.1   \n",
       "..        ...        ... ..    ...         ...           ...          ...   \n",
       "145  0.314072        145  5      8        12.0         False          0.1   \n",
       "146  0.369255        146  6     10        11.0         False          0.1   \n",
       "147  0.264443        147  3     12        12.0         False          0.1   \n",
       "148  0.296749        148  5      6        13.0         False          0.1   \n",
       "149  0.211057        149  6      8        10.0         False          0.1   \n",
       "\n",
       "     shuffle  \n",
       "0      False  \n",
       "1      False  \n",
       "2       True  \n",
       "3       True  \n",
       "4      False  \n",
       "..       ...  \n",
       "145    False  \n",
       "146    False  \n",
       "147    False  \n",
       "148    False  \n",
       "149    False  \n",
       "\n",
       "[150 rows x 8 columns]"
      ]
     },
     "execution_count": 67,
     "metadata": {},
     "output_type": "execute_result"
    }
   ],
   "source": [
    "import os\n",
    "t_fname = 'servises/bayesian_optimization/out/trials_150_default_0.0.p'\n",
    "trial_filename, _ = os.path.splitext(t_fname)\n",
    "print(trial_filename)\n",
    "\n",
    "tpe_trials = _load_trials(trial_filename)\n",
    "#print(tpe_trials.results)\n",
    "tpe_results = pd.DataFrame({'loss': [x['loss'] for x in tpe_trials.results],\n",
    "                            'iteration': [x['iteration'] for x in tpe_trials.results],\n",
    "                            'n': [x['params']['n'] for x in tpe_trials.results],\n",
    "                            'nodes': [x['params']['nodes'] for x in tpe_trials.results],\n",
    "                            'batch_size': [x['params']['batch_size'] for x in tpe_trials.results],\n",
    "                            'drop_enabled': [x['params']['drop_enabled'] for x in tpe_trials.results],\n",
    "                            'drop_factor': [x['params']['drop_factor'] for x in tpe_trials.results],\n",
    "                            'shuffle': [x['params']['shuffle'] for x in tpe_trials.results]\n",
    "                           })\n",
    "'''\n",
    "tpe_results = pd.DataFrame({'loss': [x['loss'] for x in tpe_trials.results],\n",
    "                            'iteration': [x['iteration'] for x in tpe_trials.results],\n",
    "                            'n': [x['params']['model_params']['n'] for x in tpe_trials.results],\n",
    "                            'nodes': [x['params']['model_params']['nodes'] for x in tpe_trials.results],\n",
    "                            'batch_size': [x['params']['batch_size'] for x in tpe_trials.results],\n",
    "                            'drop_enabled': [x['params']['model_params']['drop_enabled'] for x in tpe_trials.results],\n",
    "                            'drop_factor': [x['params']['model_params']['drop_factor'] for x in tpe_trials.results],\n",
    "                            'shuffle': [x['params']['shuffle'] for x in tpe_trials.results]\n",
    "                           })\n",
    "'''\n",
    "'''\n",
    "# Dataframe of results from optimization\n",
    "tpe_results = pd.DataFrame({'loss': [x['loss'] for x in tpe_trials.results], \n",
    "                            'iteration': tpe_trials.idxs_vals[0]['x'],\n",
    "                            'x': tpe_trials.idxs_vals[1]['x'],\n",
    "                            'y': tpe_trials.idxs_vals[1]['y']})\n",
    "\n",
    "tpe_results['rolling_average_x'] = tpe_results['x'].rolling(50).mean().fillna(method = 'bfill')\n",
    "tpe_results['rolling_average_loss'] = tpe_results['loss'].rolling(50).mean().fillna(method = 'bfill')\n",
    "'''\n",
    "\n",
    "tpe_results  # .loc[tpe_results['loss'] <= 0.2]"
   ]
  },
  {
   "cell_type": "code",
   "execution_count": 48,
   "metadata": {},
   "outputs": [
    {
     "data": {
      "image/png": "[encoded data removed]",
      "text/plain": [
       "<Figure size 1440x792 with 1 Axes>"
      ]
     },
     "metadata": {
      "needs_background": "light"
     },
     "output_type": "display_data"
    },
    {
     "data": {
      "image/png": "[encoded data removed]",
      "text/plain": [
       "<Figure size 576x432 with 1 Axes>"
      ]
     },
     "metadata": {
      "needs_background": "light"
     },
     "output_type": "display_data"
    }
   ],
   "source": [
    "# --- n: Number of hidden layers ---\n",
    "# Print the TPE Sequence of Values\n",
    "plt.figure(figsize = (20, 11))\n",
    "plt.plot(tpe_results['iteration'], tpe_results['n'],  'bo', alpha = 0.5);\n",
    "plt.xlabel('Iteration', size = 22); plt.ylabel('n value', size = 22); plt.title('TPE Sequence of Values', size = 24);\n",
    "#plt.hlines(1, 0, 5000, linestyles = '--', colors = 'r');\n",
    "plt.grid();\n",
    "\n",
    "# Print the Histogram of TPE Values\n",
    "plt.figure(figsize = (8, 6))\n",
    "plt.hist(tpe_results['n'], bins = 50, edgecolor = 'k');\n",
    "plt.title('Histogram of TPE Values'); plt.xlabel('Value of n'); plt.ylabel('Count');"
   ]
  },
  {
   "cell_type": "code",
   "execution_count": 54,
   "metadata": {},
   "outputs": [
    {
     "data": {
      "image/png": "[encoded data removed]",
      "text/plain": [
       "<Figure size 1440x792 with 1 Axes>"
      ]
     },
     "metadata": {
      "needs_background": "light"
     },
     "output_type": "display_data"
    },
    {
     "data": {
      "image/png": "[encoded data removed]",
      "text/plain": [
       "<Figure size 576x432 with 1 Axes>"
      ]
     },
     "metadata": {
      "needs_background": "light"
     },
     "output_type": "display_data"
    }
   ],
   "source": [
    "# --- nodes: Number of nodes in each hidden layer ---\n",
    "# Print the TPE Sequence of Values\n",
    "plt.figure(figsize = (20, 11))\n",
    "plt.plot(tpe_results['iteration'], tpe_results['nodes'],  'bo', alpha = 0.5);\n",
    "plt.xlabel('Iteration', size = 22); plt.ylabel('nodes value', size = 22); plt.title('TPE Sequence of Values', size = 24);\n",
    "#plt.hlines(1, 0, 5000, linestyles = '--', colors = 'r');\n",
    "plt.grid();\n",
    "\n",
    "# Print the Histogram of TPE Values\n",
    "plt.figure(figsize = (8, 6))\n",
    "plt.hist(tpe_results['nodes'], bins = 50, edgecolor = 'k');\n",
    "plt.title('Histogram of TPE Values'); plt.xlabel('Value of nodes'); plt.ylabel('Count');"
   ]
  },
  {
   "cell_type": "code",
   "execution_count": 59,
   "metadata": {},
   "outputs": [
    {
     "name": "stdout",
     "output_type": "stream",
     "text": [
      "0      False\n",
      "1      False\n",
      "2       True\n",
      "3       True\n",
      "4      False\n",
      "       ...  \n",
      "145    False\n",
      "146    False\n",
      "147    False\n",
      "148    False\n",
      "149    False\n",
      "Name: shuffle, Length: 150, dtype: bool\n"
     ]
    }
   ],
   "source": [
    "print(tpe_results['shuffle'])"
   ]
  },
  {
   "cell_type": "code",
   "execution_count": 65,
   "metadata": {},
   "outputs": [
    {
     "name": "stdout",
     "output_type": "stream",
     "text": [
      "True     79\n",
      "False    71\n",
      "Name: shuffle, dtype: int64\n"
     ]
    },
    {
     "data": {
      "text/plain": [
       "<AxesSubplot:title={'center':'Histogram of TPE Values'}>"
      ]
     },
     "execution_count": 65,
     "metadata": {},
     "output_type": "execute_result"
    },
    {
     "data": {
      "image/png": "[encoded data removed]",
      "text/plain": [
       "<Figure size 576x432 with 1 Axes>"
      ]
     },
     "metadata": {
      "needs_background": "light"
     },
     "output_type": "display_data"
    }
   ],
   "source": [
    "# --- nodes: Number of nodes in each hidden layer ---\n",
    "'''\n",
    "# Print the TPE Sequence of Values\n",
    "plt.figure(figsize = (20, 11))\n",
    "plt.plot(tpe_results['iteration'], tpe_results['shuffle'],  'bo', alpha = 0.5);\n",
    "plt.xlabel('Iteration', size = 22); plt.ylabel('shuffle value', size = 22); plt.title('TPE Sequence of Values', size = 24);\n",
    "#plt.hlines(1, 0, 5000, linestyles = '--', colors = 'r');\n",
    "plt.grid();\n",
    "'''\n",
    "\n",
    "# Print the Histogram of TPE Values\n",
    "#plt.figure(figsize = (8, 6))\n",
    "# Bar plots of boosting type\n",
    "print(tpe_results['shuffle'].value_counts())\n",
    "tpe_results['shuffle'].value_counts().plot.bar(figsize = (8, 6), color = 'blue', title = 'Histogram of TPE Values')\n",
    "#plt.hist(tpe_results['shuffle'], bins = 2, edgecolor = 'k');\n",
    "#plt.title('Histogram of TPE Values'); plt.xlabel('Value of shuffle'); plt.ylabel('Count');"
   ]
  },
  {
   "cell_type": "markdown",
   "metadata": {},
   "source": [
    "<h5>References</h5>\n",
    "<a href=\"https://janakiev.com/blog/keras-iris/\">Classifying the Iris Data Set with Keras</a><br>\n",
    "<a href=\"https://machinelearningmastery.com/multi-class-classification-tutorial-keras-deep-learning-library/\">Multi-Class Classification Tutorial with the Keras Deep Learning Library</a>"
   ]
  }
 ],
 "metadata": {
  "kernelspec": {
   "display_name": "Python 3",
   "language": "python",
   "name": "python3"
  },
  "language_info": {
   "codemirror_mode": {
    "name": "ipython",
    "version": 3
   },
   "file_extension": ".py",
   "mimetype": "text/x-python",
   "name": "python",
   "nbconvert_exporter": "python",
   "pygments_lexer": "ipython3",
   "version": "3.6.6"
  }
 },
 "nbformat": 4,
 "nbformat_minor": 4
}
